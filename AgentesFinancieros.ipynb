{
  "cells": [
    {
      "cell_type": "markdown",
      "id": "3d59342e",
      "metadata": {
        "id": "3d59342e"
      },
      "source": [
        "# AGENTES FINANCIEROS - \"The Club Benefits Programme\" FIFA"
      ]
    },
    {
      "cell_type": "markdown",
      "id": "76e065cb",
      "metadata": {
        "id": "76e065cb"
      },
      "source": [
        "Los agentes financieros dentro de nuestro proyecto tendran la función de entregar el monto acordado a los diferentes Clubes instalados en los diferentes paises."
      ]
    },
    {
      "cell_type": "markdown",
      "id": "c6482288",
      "metadata": {
        "id": "c6482288"
      },
      "source": [
        "# Construcción del conjunto de datos"
      ]
    },
    {
      "cell_type": "markdown",
      "id": "d02a8e8d",
      "metadata": {
        "id": "d02a8e8d"
      },
      "source": [
        "Para codificar, comience importando las siguientes bibliotecas:"
      ]
    },
    {
      "cell_type": "code",
      "execution_count": null,
      "id": "97b3d6da",
      "metadata": {
        "colab": {
          "base_uri": "https://localhost:8080/"
        },
        "id": "97b3d6da",
        "outputId": "be72f82a-4c89-469d-fbbd-c700d4f5653b"
      },
      "outputs": [
        {
          "output_type": "stream",
          "name": "stdout",
          "text": [
            "Looking in indexes: https://pypi.org/simple, https://us-python.pkg.dev/colab-wheels/public/simple/\n",
            "Collecting Faker\n",
            "  Downloading Faker-15.3.4-py3-none-any.whl (1.6 MB)\n",
            "\u001b[K     |████████████████████████████████| 1.6 MB 4.0 MB/s \n",
            "\u001b[?25hRequirement already satisfied: python-dateutil>=2.4 in /usr/local/lib/python3.8/dist-packages (from Faker) (2.8.2)\n",
            "Requirement already satisfied: six>=1.5 in /usr/local/lib/python3.8/dist-packages (from python-dateutil>=2.4->Faker) (1.15.0)\n",
            "Installing collected packages: Faker\n",
            "Successfully installed Faker-15.3.4\n"
          ]
        }
      ],
      "source": [
        "#Instalamos Faker debido a que no viene instalado por defecto en Colab\n",
        "!pip install Faker\n",
        "#Importamos pandas para manejo de dataframes\n",
        "import pandas as pd\n",
        "#Importamos uuid para que solo exista 1 ID\n",
        "import uuid\n",
        "#Importamos random para la asignacion de datos randómicos\n",
        "import random\n",
        "#Importamos Faker para hacer uso de su recreacion de datos\n",
        "from faker import Faker\n",
        "#Importamos fecha para el manejo de fechas\n",
        "import datetime"
      ]
    },
    {
      "cell_type": "markdown",
      "id": "db21c16c",
      "metadata": {
        "id": "db21c16c"
      },
      "source": [
        "**Size**"
      ]
    },
    {
      "cell_type": "markdown",
      "id": "44ce2a03",
      "metadata": {
        "id": "44ce2a03"
      },
      "source": [
        "El tamaño del conjunto de datos será de 5 000. Asigné esta cantidad a una variable constante, que usé en todo momento:"
      ]
    },
    {
      "cell_type": "code",
      "execution_count": null,
      "id": "29f6b5ac",
      "metadata": {
        "id": "29f6b5ac"
      },
      "outputs": [],
      "source": [
        "num_agents = 5000"
      ]
    },
    {
      "cell_type": "markdown",
      "id": "4f8ba686",
      "metadata": {
        "id": "4f8ba686"
      },
      "source": [
        "**Características**"
      ]
    },
    {
      "cell_type": "markdown",
      "id": "555a14da",
      "metadata": {
        "id": "555a14da"
      },
      "source": [
        "Elegí 8 características que dispondra el agente para interactuar con los clubes. Estas características y los respectivos tipos de datos son:\n",
        "\n",
        "     - ID: una cadena única de caracteres para identificar a cada usuario.\n",
        "     - Gender (Sexo:) tipo de datos de cadena de tres opciones.\n",
        "     - Name (Nombre:) tipo de datos de cadena del nombre y apellido del usuario.\n",
        "     - Email (Correo electrónico:) tipo de datos de cadena de la dirección de correo electrónico del usuario.\n",
        "     - BancoPais (País del proveedor del banco:) Tipo cadena, genere el código de país ISO 3166-1 alfa-2 del proveedor del banco.\n",
        "     - CtaBancaria (Número de cuenta del banco:) tipo cadena, serie de número de cuenta del banco del agente.\n",
        "     - IdDir (IdDir:) tipo cadena, Id del directivo que lo contrato."
      ]
    },
    {
      "cell_type": "markdown",
      "id": "17841653",
      "metadata": {
        "id": "17841653"
      },
      "source": [
        "Ingresé lo anterior como una lista de características para inicializar un marco de datos de Pandas:"
      ]
    },
    {
      "cell_type": "code",
      "execution_count": null,
      "id": "5a145d81",
      "metadata": {
        "id": "5a145d81"
      },
      "outputs": [],
      "source": [
        "# Lista de 7 atributos/features para los agente financiero.\n",
        "features = [\n",
        "    #ID: una cadena única de caracteres para identificar a cada agente financiero.\n",
        "    \"IdAF\",\n",
        "    #BancoPais (País del proveedor del banco:) Tipo cadena, genere el código de país ISO 3166-1 alfa-2 del proveedor del banco.\n",
        "    \"BancoPais\",\n",
        "    #CtaBancaria (Número de cuenta del banco:) tipo cadena, serie de número de cuenta del banco del agente.\n",
        "    \"CtaBancaria\"\n",
        "]# Generemos el dataframe donde estarán presentes\n",
        "df = pd.DataFrame(columns=features)"
      ]
    },
    {
      "cell_type": "markdown",
      "id": "32e7f58f",
      "metadata": {
        "id": "32e7f58f"
      },
      "source": [
        "**Creación de datos**"
      ]
    },
    {
      "cell_type": "markdown",
      "id": "6707781a",
      "metadata": {
        "id": "6707781a"
      },
      "source": [
        "**IDs**"
      ]
    },
    {
      "cell_type": "markdown",
      "id": "57be8b83",
      "metadata": {
        "id": "57be8b83"
      },
      "source": [
        "Para el atributo ID, utilicé la biblioteca uuid para generar una cadena aleatoria de caracteres 5000 veces. Luego, lo asigné al atributo ID en el marco de datos."
      ]
    },
    {
      "cell_type": "code",
      "execution_count": null,
      "id": "9417eb1d",
      "metadata": {
        "id": "9417eb1d"
      },
      "outputs": [],
      "source": [
        "# Definimos en ID la función uuid para el análisis de cada uno de los 5000 datos\n",
        "df['IdAF'] = [uuid.uuid4().hex for i in range(num_agents)]"
      ]
    },
    {
      "cell_type": "markdown",
      "id": "92e30db5",
      "metadata": {
        "id": "92e30db5"
      },
      "source": [
        "**UUID es una gran biblioteca para generar identificaciones únicas para cada usuario debido a su posibilidad astronómicamente baja de duplicar una identificación.** Es una gran opción cuando se trata de generar conjuntos de caracteres de identificación únicos. Pero, si desea asegurarse de que no se repitieron las ID, puede realizar una verificación simple en el marco de datos con lo siguiente:"
      ]
    },
    {
      "cell_type": "code",
      "execution_count": null,
      "id": "4be6d244",
      "metadata": {
        "colab": {
          "base_uri": "https://localhost:8080/"
        },
        "id": "4be6d244",
        "outputId": "dcc2ba82-7f10-4884-ae58-ed4d2af858e0"
      },
      "outputs": [
        {
          "output_type": "stream",
          "name": "stdout",
          "text": [
            "True\n"
          ]
        }
      ],
      "source": [
        "print(df['IdAF'].nunique()==num_agents)"
      ]
    },
    {
      "cell_type": "markdown",
      "id": "a14229fb",
      "metadata": {
        "id": "a14229fb"
      },
      "source": [
        "Esto devolverá True si todas las ID en el conjunto de datos son únicas."
      ]
    },
    {
      "cell_type": "markdown",
      "id": "e42be811",
      "metadata": {
        "id": "e42be811"
      },
      "source": [
        "**Gender**"
      ]
    },
    {
      "cell_type": "markdown",
      "id": "a189353d",
      "metadata": {
        "id": "a189353d"
      },
      "source": [
        "**Este atributo es uno de los casos en los que probablemente no se debería utilizar una elección igualmente aleatoria. Porque se puede suponer con seguridad que cada elección no tiene la misma probabilidad de ocurrir.**\n",
        "\n",
        "Para el género, proporcioné tres opciones: masculino, femenino y na."
      ]
    },
    {
      "cell_type": "markdown",
      "id": "fd9b2e7f",
      "metadata": {
        "id": "fd9b2e7f"
      },
      "source": [
        "**Name**"
      ]
    },
    {
      "cell_type": "markdown",
      "id": "f5a065c3",
      "metadata": {
        "id": "f5a065c3"
      },
      "source": [
        "Aquí usé la biblioteca Faker para crear miles de nombres para todos estos usuarios. **La biblioteca Faker es excelente en esta situación porque tiene una opción para nombres masculinos y femeninos.**}} Para procesar los nombres de género, creé una función para asignar nombres en función de un género determinado."
      ]
    },
    {
      "cell_type": "markdown",
      "id": "813169e8",
      "metadata": {
        "id": "813169e8"
      },
      "source": [
        "Después de generar todos los correos electrónicos, los asigné al atributo \"Correo electrónico\" del marco de datos. También puede hacer una verificación opcional para ver que cada correo electrónico sea único con el mismo método que las ID."
      ]
    },
    {
      "cell_type": "markdown",
      "source": [
        "**BancoPais**"
      ],
      "metadata": {
        "id": "WNdtzxn5KTOR"
      },
      "id": "WNdtzxn5KTOR"
    },
    {
      "cell_type": "markdown",
      "source": [
        "Con la función bank_country de faker se asigno una a cada agente dependiendo del país en el que se encuentre."
      ],
      "metadata": {
        "id": "m-p0WNXHKUHA"
      },
      "id": "m-p0WNXHKUHA"
    },
    {
      "cell_type": "code",
      "source": [
        "faker = Faker()\n",
        "df['BancoPais'] = [faker.bank_country() for i in range(num_agents)]"
      ],
      "metadata": {
        "id": "ZoO4hdKXKZZx"
      },
      "id": "ZoO4hdKXKZZx",
      "execution_count": null,
      "outputs": []
    },
    {
      "cell_type": "markdown",
      "source": [
        "**Bank_Acc_Num**"
      ],
      "metadata": {
        "id": "pAsmgJJfMGbA"
      },
      "id": "pAsmgJJfMGbA"
    },
    {
      "cell_type": "markdown",
      "source": [
        "Por el comando faker.iban() generamos números de cuentas de bancos internacionales para que estos dispongan de los fondos de la FIFA."
      ],
      "metadata": {
        "id": "B11eS-LSMGkP"
      },
      "id": "B11eS-LSMGkP"
    },
    {
      "cell_type": "code",
      "source": [
        "faker = Faker()\n",
        "df['CtaBancaria'] = [faker.iban() for i in range(num_agents)]"
      ],
      "metadata": {
        "id": "542HkJDRMM0v"
      },
      "id": "542HkJDRMM0v",
      "execution_count": null,
      "outputs": []
    },
    {
      "cell_type": "markdown",
      "source": [
        "***Id Dir***"
      ],
      "metadata": {
        "id": "RfQB-eOZbYOR"
      },
      "id": "RfQB-eOZbYOR"
    },
    {
      "cell_type": "markdown",
      "id": "545e8963",
      "metadata": {
        "id": "545e8963"
      },
      "source": [
        "**Saving the Dataset**"
      ]
    },
    {
      "cell_type": "markdown",
      "id": "743e5aed",
      "metadata": {
        "id": "743e5aed"
      },
      "source": [
        "Una vez generado los datos, los guardamos en un archivo csv para verlos representados."
      ]
    },
    {
      "cell_type": "code",
      "execution_count": null,
      "id": "b746f91d",
      "metadata": {
        "id": "b746f91d"
      },
      "outputs": [],
      "source": [
        "df.to_csv('dataset_AgentesFinanciero.csv')"
      ]
    },
    {
      "cell_type": "code",
      "execution_count": null,
      "id": "ea5400f3",
      "metadata": {
        "id": "ea5400f3"
      },
      "outputs": [],
      "source": []
    }
  ],
  "metadata": {
    "kernelspec": {
      "display_name": "Python 3 (ipykernel)",
      "language": "python",
      "name": "python3"
    },
    "language_info": {
      "codemirror_mode": {
        "name": "ipython",
        "version": 3
      },
      "file_extension": ".py",
      "mimetype": "text/x-python",
      "name": "python",
      "nbconvert_exporter": "python",
      "pygments_lexer": "ipython3",
      "version": "3.9.7"
    },
    "colab": {
      "provenance": []
    }
  },
  "nbformat": 4,
  "nbformat_minor": 5
}