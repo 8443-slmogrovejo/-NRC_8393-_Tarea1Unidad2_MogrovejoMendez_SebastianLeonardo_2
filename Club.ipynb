{
  "cells": [
    {
      "cell_type": "markdown",
      "source": [
        "# Club - \"The Club Benefits Programme\" FIFA"
      ],
      "metadata": {
        "id": "XVWcrhsCm9fV"
      },
      "id": "XVWcrhsCm9fV"
    },
    {
      "cell_type": "markdown",
      "source": [
        "***Librerías***"
      ],
      "metadata": {
        "id": "lZCdBHm2_QNu"
      },
      "id": "lZCdBHm2_QNu"
    },
    {
      "cell_type": "markdown",
      "source": [
        "Se utilizarán las siguientes librerías para crear los datos sintéticos"
      ],
      "metadata": {
        "id": "WSnwYJ6L_UtK"
      },
      "id": "WSnwYJ6L_UtK"
    },
    {
      "cell_type": "code",
      "source": [
        "!pip install Faker"
      ],
      "metadata": {
        "colab": {
          "base_uri": "https://localhost:8080/"
        },
        "id": "WAOuGFSlm6nf",
        "outputId": "4fc1ef97-39ae-4d79-a9b2-a62980f1812f"
      },
      "id": "WAOuGFSlm6nf",
      "execution_count": null,
      "outputs": [
        {
          "output_type": "stream",
          "name": "stdout",
          "text": [
            "Looking in indexes: https://pypi.org/simple, https://us-python.pkg.dev/colab-wheels/public/simple/\n",
            "Collecting Faker\n",
            "  Downloading Faker-15.3.4-py3-none-any.whl (1.6 MB)\n",
            "\u001b[K     |████████████████████████████████| 1.6 MB 4.9 MB/s \n",
            "\u001b[?25hRequirement already satisfied: python-dateutil>=2.4 in /usr/local/lib/python3.8/dist-packages (from Faker) (2.8.2)\n",
            "Requirement already satisfied: six>=1.5 in /usr/local/lib/python3.8/dist-packages (from python-dateutil>=2.4->Faker) (1.15.0)\n",
            "Installing collected packages: Faker\n",
            "Successfully installed Faker-15.3.4\n"
          ]
        }
      ]
    },
    {
      "cell_type": "code",
      "execution_count": null,
      "id": "97b3d6da",
      "metadata": {
        "id": "97b3d6da"
      },
      "outputs": [],
      "source": [
        "import pandas as pd\n",
        "import uuid\n",
        "import random\n",
        "from faker import Faker\n",
        "import datetime"
      ]
    },
    {
      "cell_type": "markdown",
      "id": "db21c16c",
      "metadata": {
        "id": "db21c16c"
      },
      "source": [
        "**Size**"
      ]
    },
    {
      "cell_type": "markdown",
      "id": "44ce2a03",
      "metadata": {
        "id": "44ce2a03"
      },
      "source": [
        "El tamaño del conjunto de datos será de 20 puntos de datos (puede hacer más, pero el procesamiento puede demorar más). Asigné esta cantidad a una variable constante, que usé en todo momento:"
      ]
    },
    {
      "cell_type": "code",
      "execution_count": null,
      "id": "29f6b5ac",
      "metadata": {
        "id": "29f6b5ac"
      },
      "outputs": [],
      "source": [
        "num_Club = 416"
      ]
    },
    {
      "cell_type": "markdown",
      "id": "4f8ba686",
      "metadata": {
        "id": "4f8ba686"
      },
      "source": [
        "***Atributos***"
      ]
    },
    {
      "cell_type": "markdown",
      "id": "555a14da",
      "metadata": {
        "id": "555a14da"
      },
      "source": [
        "Elegí solamente 3 atributos:\n",
        "*   ID (IdClub)\n",
        "*   Nombre del club(NombreClub)\n",
        "*   Cuenta Bancaria del Club (CtaBancaria)\n",
        "*   ID de la Confederacion a la que pertenece (IdConf)\n",
        "*   ID de la FIFA (IdFIFA)"
      ]
    },
    {
      "cell_type": "markdown",
      "id": "17841653",
      "metadata": {
        "id": "17841653"
      },
      "source": [
        "Ingresé lo anterior como una lista de características para inicializar un marco de datos de Pandas:"
      ]
    },
    {
      "cell_type": "code",
      "execution_count": null,
      "id": "5a145d81",
      "metadata": {
        "id": "5a145d81"
      },
      "outputs": [],
      "source": [
        "# A list of 10 features\n",
        "features = [\n",
        "    \"IdClub\",\n",
        "    \"NombreClub\",\n",
        "    \"CtaBancaria\",\n",
        "    \"IdConf\",\n",
        "    \"IdFIFA\"\n",
        "]# Creating a DF for these features\n",
        "df = pd.DataFrame(columns=features)"
      ]
    },
    {
      "cell_type": "markdown",
      "id": "32e7f58f",
      "metadata": {
        "id": "32e7f58f"
      },
      "source": [
        "**Creación de datos**"
      ]
    },
    {
      "cell_type": "markdown",
      "id": "b84da0a2",
      "metadata": {
        "id": "b84da0a2"
      },
      "source": [
        "Algunos atributos anteriores normalmente deberían contener datos desequilibrados. Se puede asumir con seguridad con una investigación rápida, algunas opciones no estarán igualmente representadas. Para un conjunto de datos más realista, estas tendencias deben reflejarse."
      ]
    },
    {
      "cell_type": "markdown",
      "id": "6707781a",
      "metadata": {
        "id": "6707781a"
      },
      "source": [
        "**IDs**"
      ]
    },
    {
      "cell_type": "markdown",
      "id": "57be8b83",
      "metadata": {
        "id": "57be8b83"
      },
      "source": [
        "Para el atributo ID, utilicé la biblioteca uuid para generar una cadena aleatoria de caracteres 20 veces. Luego, lo asigné al atributo ID en el marco de datos."
      ]
    },
    {
      "cell_type": "code",
      "execution_count": null,
      "id": "9417eb1d",
      "metadata": {
        "id": "9417eb1d"
      },
      "outputs": [],
      "source": [
        "df['IdClub'] = [uuid.uuid4().hex for i in range(num_Club)]"
      ]
    },
    {
      "cell_type": "code",
      "execution_count": null,
      "id": "4be6d244",
      "metadata": {
        "colab": {
          "base_uri": "https://localhost:8080/"
        },
        "id": "4be6d244",
        "outputId": "3aa1e326-2218-492e-bbd2-2a18a34e7553"
      },
      "outputs": [
        {
          "output_type": "stream",
          "name": "stdout",
          "text": [
            "True\n"
          ]
        }
      ],
      "source": [
        "print(df['IdClub'].nunique()==num_Club)"
      ]
    },
    {
      "cell_type": "markdown",
      "source": [
        "***Nombre del Club***\n",
        "\n",
        "Primeramente se declarón los nombres de 20 clubes que son participes del programa de la FIFA"
      ],
      "metadata": {
        "id": "FVbAfTk7GJV-"
      },
      "id": "FVbAfTk7GJV-"
    },
    {
      "cell_type": "code",
      "source": [
        "#Para el lazo for, indicamos que el contador \"i\" se transforme en un dato de tipo cadena y se le añada a la palabra Club, asignando a todas las filas.\n",
        "df['NombreClub'] = [ 'Club ' + str(i+1) for i in range(num_Club)]"
      ],
      "metadata": {
        "id": "p8_4oeBlOjs3"
      },
      "id": "p8_4oeBlOjs3",
      "execution_count": null,
      "outputs": []
    },
    {
      "cell_type": "markdown",
      "source": [
        "***Cuenta Bancaria***"
      ],
      "metadata": {
        "id": "d96EGrezTiwk"
      },
      "id": "d96EGrezTiwk"
    },
    {
      "cell_type": "markdown",
      "source": [
        "Por el comando faker.iban() generamos números de cuentas de bancos internacionales para que estos dispongan de los fondos de cada Club."
      ],
      "metadata": {
        "id": "QDucP5ctUQXk"
      },
      "id": "QDucP5ctUQXk"
    },
    {
      "cell_type": "code",
      "source": [
        "faker = Faker()\n",
        "df['CtaBancaria'] = [faker.iban() for i in range(num_Club)]"
      ],
      "metadata": {
        "id": "E5XGES5dTi4M"
      },
      "id": "E5XGES5dTi4M",
      "execution_count": null,
      "outputs": []
    },
    {
      "cell_type": "markdown",
      "source": [
        "***ID Confederacion***"
      ],
      "metadata": {
        "id": "lmbM4wiRTjJ0"
      },
      "id": "lmbM4wiRTjJ0"
    },
    {
      "cell_type": "code",
      "source": [
        "df['IdConf'] = [uuid.uuid4().hex for i in range(num_Club)]\n",
        "print(df['IdConf'].nunique()==num_Club)"
      ],
      "metadata": {
        "colab": {
          "base_uri": "https://localhost:8080/"
        },
        "id": "KhAKg2z0TjTs",
        "outputId": "117010d5-e967-4c5f-a6ce-60a2db97586e"
      },
      "id": "KhAKg2z0TjTs",
      "execution_count": null,
      "outputs": [
        {
          "output_type": "stream",
          "name": "stdout",
          "text": [
            "True\n"
          ]
        }
      ]
    },
    {
      "cell_type": "markdown",
      "source": [
        "***ID FIFA***"
      ],
      "metadata": {
        "id": "bP2_aCl1Uj41"
      },
      "id": "bP2_aCl1Uj41"
    },
    {
      "cell_type": "code",
      "source": [
        "df['IdFIFA'] = ['FIFA20a246' for i in range(num_Club)]"
      ],
      "metadata": {
        "id": "qLdL8YaHUkAr"
      },
      "id": "qLdL8YaHUkAr",
      "execution_count": null,
      "outputs": []
    },
    {
      "cell_type": "markdown",
      "id": "545e8963",
      "metadata": {
        "id": "545e8963"
      },
      "source": [
        "**Saving the Dataset**"
      ]
    },
    {
      "cell_type": "markdown",
      "id": "743e5aed",
      "metadata": {
        "id": "743e5aed"
      },
      "source": [
        "Ahora que los datos están completos y si estaba codificando, siéntase libre de ver el marco de datos antes de decidir guardarlo. Si todo se ve bien, guarde el marco de datos como un archivo .csv con este simple comando:"
      ]
    },
    {
      "cell_type": "code",
      "execution_count": null,
      "id": "b746f91d",
      "metadata": {
        "id": "b746f91d"
      },
      "outputs": [],
      "source": [
        "df.to_csv('dataset_club.csv')"
      ]
    }
  ],
  "metadata": {
    "kernelspec": {
      "display_name": "Python 3 (ipykernel)",
      "language": "python",
      "name": "python3"
    },
    "language_info": {
      "codemirror_mode": {
        "name": "ipython",
        "version": 3
      },
      "file_extension": ".py",
      "mimetype": "text/x-python",
      "name": "python",
      "nbconvert_exporter": "python",
      "pygments_lexer": "ipython3",
      "version": "3.9.7"
    },
    "colab": {
      "provenance": []
    }
  },
  "nbformat": 4,
  "nbformat_minor": 5
}