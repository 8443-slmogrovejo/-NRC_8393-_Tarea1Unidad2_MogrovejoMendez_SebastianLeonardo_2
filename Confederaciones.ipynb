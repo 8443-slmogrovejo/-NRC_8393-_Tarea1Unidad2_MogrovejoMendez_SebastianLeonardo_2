{
  "cells": [
    {
      "cell_type": "markdown",
      "source": [
        "# Confederaciones - \"The Club Benefits Programme\" FIFA"
      ],
      "metadata": {
        "id": "W1VMNoWUnAj9"
      },
      "id": "W1VMNoWUnAj9"
    },
    {
      "cell_type": "markdown",
      "source": [
        "***Librerías***"
      ],
      "metadata": {
        "id": "lZCdBHm2_QNu"
      },
      "id": "lZCdBHm2_QNu"
    },
    {
      "cell_type": "markdown",
      "source": [
        "Se utilizarán las siguientes librerías para crear los datos sintéticos"
      ],
      "metadata": {
        "id": "WSnwYJ6L_UtK"
      },
      "id": "WSnwYJ6L_UtK"
    },
    {
      "cell_type": "code",
      "execution_count": null,
      "id": "97b3d6da",
      "metadata": {
        "id": "97b3d6da"
      },
      "outputs": [],
      "source": [
        "import pandas as pd\n",
        "import uuid\n",
        "import random"
      ]
    },
    {
      "cell_type": "markdown",
      "id": "db21c16c",
      "metadata": {
        "id": "db21c16c"
      },
      "source": [
        "**Size**"
      ]
    },
    {
      "cell_type": "markdown",
      "id": "44ce2a03",
      "metadata": {
        "id": "44ce2a03"
      },
      "source": [
        "El tamaño del conjunto de datos será de 32 puntos de datos (puede hacer más, pero el procesamiento puede demorar más). Asigné esta cantidad a una variable constante, que usé en todo momento:"
      ]
    },
    {
      "cell_type": "code",
      "execution_count": null,
      "id": "29f6b5ac",
      "metadata": {
        "id": "29f6b5ac"
      },
      "outputs": [],
      "source": [
        "num_conf = 6"
      ]
    },
    {
      "cell_type": "markdown",
      "id": "4f8ba686",
      "metadata": {
        "id": "4f8ba686"
      },
      "source": [
        "***Atributos***"
      ]
    },
    {
      "cell_type": "markdown",
      "id": "555a14da",
      "metadata": {
        "id": "555a14da"
      },
      "source": [
        "Elegí solamente 3 atributos:\n",
        "*   ID (id)\n",
        "*   Las confederaciones (confederaciones)\n",
        "*   Status (status)\n",
        "*   Fecha de creación (fechaCreacion)"
      ]
    },
    {
      "cell_type": "markdown",
      "id": "17841653",
      "metadata": {
        "id": "17841653"
      },
      "source": [
        "Ingresé lo anterior como una lista de características para inicializar un marco de datos de Pandas:"
      ]
    },
    {
      "cell_type": "code",
      "execution_count": null,
      "id": "5a145d81",
      "metadata": {
        "id": "5a145d81"
      },
      "outputs": [],
      "source": [
        "# A list of 3 features\n",
        "features = [\n",
        "    \"IdConf\",\n",
        "    \"NombreConf\",\n",
        "    \"IdFIFA\"\n",
        "]# Creating a DF for these features\n",
        "df = pd.DataFrame(columns=features)"
      ]
    },
    {
      "cell_type": "markdown",
      "id": "32e7f58f",
      "metadata": {
        "id": "32e7f58f"
      },
      "source": [
        "**Creación de datos**"
      ]
    },
    {
      "cell_type": "markdown",
      "id": "b84da0a2",
      "metadata": {
        "id": "b84da0a2"
      },
      "source": [
        "Algunos atributos anteriores normalmente deberían contener datos desequilibrados. Se puede asumir con seguridad con una investigación rápida, algunas opciones no estarán igualmente representadas. Para un conjunto de datos más realista, estas tendencias deben reflejarse."
      ]
    },
    {
      "cell_type": "markdown",
      "id": "6707781a",
      "metadata": {
        "id": "6707781a"
      },
      "source": [
        "**IDs**"
      ]
    },
    {
      "cell_type": "markdown",
      "id": "57be8b83",
      "metadata": {
        "id": "57be8b83"
      },
      "source": [
        "Para el atributo ID, utilicé la biblioteca uuid para generar una cadena aleatoria de caracteres 20 veces. Luego, lo asigné al atributo ID en el marco de datos."
      ]
    },
    {
      "cell_type": "code",
      "execution_count": null,
      "id": "9417eb1d",
      "metadata": {
        "id": "9417eb1d"
      },
      "outputs": [],
      "source": [
        "df['IdConf'] = [uuid.uuid4().hex for i in range(num_conf)]"
      ]
    },
    {
      "cell_type": "code",
      "execution_count": null,
      "id": "4be6d244",
      "metadata": {
        "colab": {
          "base_uri": "https://localhost:8080/"
        },
        "id": "4be6d244",
        "outputId": "32472e62-decf-4357-dd3b-b02a42c0472a"
      },
      "outputs": [
        {
          "output_type": "stream",
          "name": "stdout",
          "text": [
            "True\n"
          ]
        }
      ],
      "source": [
        "print(df['IdConf'].nunique()==num_conf)"
      ]
    },
    {
      "cell_type": "markdown",
      "source": [
        "***Confederaciones de la FIFA***\n",
        "Se declaran las 5 confederaciones existentes"
      ],
      "metadata": {
        "id": "FVbAfTk7GJV-"
      },
      "id": "FVbAfTk7GJV-"
    },
    {
      "cell_type": "code",
      "source": [
        "#Definimos a cada una de las 6 Confederaciones pertenecientes a la FIFA\n",
        "df['NombreConf'] = ['AFC', 'CAF', 'Concacaf', 'Conmebol', 'OFC', 'UEFA']"
      ],
      "metadata": {
        "id": "yPWsoVdKNAEa"
      },
      "id": "yPWsoVdKNAEa",
      "execution_count": null,
      "outputs": []
    },
    {
      "cell_type": "markdown",
      "source": [],
      "metadata": {
        "id": "Gs_F1VCCWdGS"
      },
      "id": "Gs_F1VCCWdGS"
    },
    {
      "cell_type": "markdown",
      "source": [
        "***ID FIFA***"
      ],
      "metadata": {
        "id": "bQ14xZLEYi9c"
      },
      "id": "bQ14xZLEYi9c"
    },
    {
      "cell_type": "code",
      "source": [
        "df['IdFIFA'] = ['FIFA20a246' for i in range(num_conf)]"
      ],
      "metadata": {
        "id": "oWAjcipiYh8N"
      },
      "id": "oWAjcipiYh8N",
      "execution_count": null,
      "outputs": []
    },
    {
      "cell_type": "markdown",
      "id": "545e8963",
      "metadata": {
        "id": "545e8963"
      },
      "source": [
        "**Saving the Dataset**"
      ]
    },
    {
      "cell_type": "markdown",
      "id": "743e5aed",
      "metadata": {
        "id": "743e5aed"
      },
      "source": [
        "Ahora que los datos están completos y si estaba codificando, siéntase libre de ver el marco de datos antes de decidir guardarlo. Si todo se ve bien, guarde el marco de datos como un archivo .csv con este simple comando:"
      ]
    },
    {
      "cell_type": "code",
      "execution_count": null,
      "id": "b746f91d",
      "metadata": {
        "id": "b746f91d"
      },
      "outputs": [],
      "source": [
        "df.to_csv('dataset_Confederaciones.csv')"
      ]
    }
  ],
  "metadata": {
    "kernelspec": {
      "display_name": "Python 3 (ipykernel)",
      "language": "python",
      "name": "python3"
    },
    "language_info": {
      "codemirror_mode": {
        "name": "ipython",
        "version": 3
      },
      "file_extension": ".py",
      "mimetype": "text/x-python",
      "name": "python",
      "nbconvert_exporter": "python",
      "pygments_lexer": "ipython3",
      "version": "3.9.7"
    },
    "colab": {
      "provenance": []
    }
  },
  "nbformat": 4,
  "nbformat_minor": 5
}