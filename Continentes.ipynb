{
  "cells": [
    {
      "cell_type": "markdown",
      "id": "3d59342e",
      "metadata": {
        "id": "3d59342e"
      },
      "source": [
        "# CONTINENTES - \"The Club Benefits Programme\" FIFA"
      ]
    },
    {
      "cell_type": "markdown",
      "id": "76e065cb",
      "metadata": {
        "id": "76e065cb"
      },
      "source": [
        "Generaremos los continentes que existen alrededor del mundo junto a su participación en el mundial."
      ]
    },
    {
      "cell_type": "markdown",
      "id": "c6482288",
      "metadata": {
        "id": "c6482288"
      },
      "source": [
        "# Construcción del conjunto de datos"
      ]
    },
    {
      "cell_type": "markdown",
      "id": "d02a8e8d",
      "metadata": {
        "id": "d02a8e8d"
      },
      "source": [
        "Para codificar, comience importando las siguientes bibliotecas:"
      ]
    },
    {
      "cell_type": "code",
      "execution_count": null,
      "id": "97b3d6da",
      "metadata": {
        "colab": {
          "base_uri": "https://localhost:8080/"
        },
        "id": "97b3d6da",
        "outputId": "8f4a115d-1abe-4092-a59b-ee59af52e4df"
      },
      "outputs": [
        {
          "output_type": "stream",
          "name": "stdout",
          "text": [
            "Looking in indexes: https://pypi.org/simple, https://us-python.pkg.dev/colab-wheels/public/simple/\n",
            "Requirement already satisfied: Faker in /usr/local/lib/python3.8/dist-packages (15.3.4)\n",
            "Requirement already satisfied: python-dateutil>=2.4 in /usr/local/lib/python3.8/dist-packages (from Faker) (2.8.2)\n",
            "Requirement already satisfied: six>=1.5 in /usr/local/lib/python3.8/dist-packages (from python-dateutil>=2.4->Faker) (1.15.0)\n"
          ]
        }
      ],
      "source": [
        "#Instalamos Faker debido a que no viene instalado por defecto en Colab\n",
        "!pip install Faker\n",
        "#Importamos pandas para manejo de dataframes\n",
        "import pandas as pd\n",
        "#Importamos uuid para que solo exista 1 ID\n",
        "import uuid\n",
        "#Importamos random para la asignacion de datos randómicos\n",
        "import random\n",
        "#Importamos Faker para hacer uso de su recreacion de datos\n",
        "from faker import Faker\n",
        "#Importamos fecha para el manejo de fechas\n",
        "import datetime"
      ]
    },
    {
      "cell_type": "markdown",
      "id": "db21c16c",
      "metadata": {
        "id": "db21c16c"
      },
      "source": [
        "**Size**"
      ]
    },
    {
      "cell_type": "markdown",
      "id": "44ce2a03",
      "metadata": {
        "id": "44ce2a03"
      },
      "source": [
        "El tamaño del conjunto de datos será de 7 por cada continente y región, en este caso: Asia, África, América del Norte, América del Sur, Antártida, Europa y Oceanía."
      ]
    },
    {
      "cell_type": "code",
      "execution_count": null,
      "id": "29f6b5ac",
      "metadata": {
        "id": "29f6b5ac"
      },
      "outputs": [],
      "source": [
        "num_continents = 7"
      ]
    },
    {
      "cell_type": "markdown",
      "id": "4f8ba686",
      "metadata": {
        "id": "4f8ba686"
      },
      "source": [
        "**Características**"
      ]
    },
    {
      "cell_type": "markdown",
      "id": "555a14da",
      "metadata": {
        "id": "555a14da"
      },
      "source": [
        "Elegí 3 características que esperaba que engloben lo necesario de cada continente. Estas características y los respectivos tipos de datos son:\n",
        "\n",
        "     - IdConti: una cadena única de caracteres para identificar a cada continente.\n",
        "     - Asistencia (Asistencia:) una opción binaria Verdadero/Falso de su estado de participación.\n",
        "     - Nombre Continente (NombreConti:) tipo de datos de cadena del nombre del Continente."
      ]
    },
    {
      "cell_type": "markdown",
      "id": "17841653",
      "metadata": {
        "id": "17841653"
      },
      "source": [
        "Ingresé lo anterior como una lista de características para inicializar un marco de datos de Pandas:"
      ]
    },
    {
      "cell_type": "code",
      "execution_count": null,
      "id": "5a145d81",
      "metadata": {
        "id": "5a145d81"
      },
      "outputs": [],
      "source": [
        "# Lista de 4 atributos/features para los continentes.\n",
        "features = [\n",
        "    #ID: una cadena única de caracteres para identificar a cada usuario.\n",
        "    \"IdConti\",\n",
        "    #Name (Nombre:) tipo de datos de cadena del nombre del Continente.\n",
        "    \"NombreConti\",\n",
        "    #Assist (Asistencia:) una opción binaria Verdadero/Falso de su estado de participación.\n",
        "    \"Asistencia\",\n",
        "    #IdMundial (Mundial:) Mundial en el que se clasificó.\n",
        "    \"IdMundial\"\n",
        "]# Generemos el dataframe donde estarán presentes\n",
        "df = pd.DataFrame(columns=features)"
      ]
    },
    {
      "cell_type": "markdown",
      "id": "32e7f58f",
      "metadata": {
        "id": "32e7f58f"
      },
      "source": [
        "**Creación de datos**"
      ]
    },
    {
      "cell_type": "markdown",
      "id": "6707781a",
      "metadata": {
        "id": "6707781a"
      },
      "source": [
        "**IDs**"
      ]
    },
    {
      "cell_type": "markdown",
      "id": "57be8b83",
      "metadata": {
        "id": "57be8b83"
      },
      "source": [
        "Para el atributo ID, utilicé la biblioteca uuid para generar una cadena aleatoria de caracteres 100 000 veces. Luego, lo asigné al atributo ID en el marco de datos."
      ]
    },
    {
      "cell_type": "code",
      "execution_count": null,
      "id": "9417eb1d",
      "metadata": {
        "id": "9417eb1d"
      },
      "outputs": [],
      "source": [
        "# Definimos en ID la función uuid para el análisis de cada uno de los 7 datos\n",
        "df['IdConti'] = [uuid.uuid4().hex for i in range(num_continents)]"
      ]
    },
    {
      "cell_type": "markdown",
      "id": "92e30db5",
      "metadata": {
        "id": "92e30db5"
      },
      "source": [
        "**UUID es una gran biblioteca para generar identificaciones únicas para cada usuario debido a su posibilidad astronómicamente baja de duplicar una identificación.** Es una gran opción cuando se trata de generar conjuntos de caracteres de identificación únicos. Pero, si desea asegurarse de que no se repitieron las ID, puede realizar una verificación simple en el marco de datos con lo siguiente:"
      ]
    },
    {
      "cell_type": "code",
      "execution_count": null,
      "id": "4be6d244",
      "metadata": {
        "colab": {
          "base_uri": "https://localhost:8080/"
        },
        "id": "4be6d244",
        "outputId": "0e19c212-326e-415f-e314-3015e54e84ad"
      },
      "outputs": [
        {
          "output_type": "stream",
          "name": "stdout",
          "text": [
            "True\n"
          ]
        }
      ],
      "source": [
        "print(df['IdConti'].nunique()==num_continents)"
      ]
    },
    {
      "cell_type": "markdown",
      "id": "a14229fb",
      "metadata": {
        "id": "a14229fb"
      },
      "source": [
        "Esto devolverá True si todas las ID en el conjunto de datos son únicas."
      ]
    },
    {
      "cell_type": "markdown",
      "id": "57f6abcf",
      "metadata": {
        "id": "57f6abcf"
      },
      "source": [
        "**Assist**"
      ]
    },
    {
      "cell_type": "markdown",
      "id": "06faf5ef",
      "metadata": {
        "id": "06faf5ef"
      },
      "source": [
        "Para este atributo, las opciones se pueden seleccionar aleatoriamente entre Verdadero y Falso. A pesar de que se sabe siempre desde un inicio qué continentes asistirán, se recreo este proceso para hacer uso de datos sinteticos."
      ]
    },
    {
      "cell_type": "code",
      "execution_count": null,
      "id": "63766ad3",
      "metadata": {
        "id": "63766ad3"
      },
      "outputs": [],
      "source": [
        "choice = [True, False]\n",
        "df['Asistencia'] = random.choices(\n",
        "    choice,\n",
        "    weights=(80,20), \n",
        "    k=num_continents\n",
        ")"
      ]
    },
    {
      "cell_type": "markdown",
      "id": "fd9b2e7f",
      "metadata": {
        "id": "fd9b2e7f"
      },
      "source": [
        "**Name**"
      ]
    },
    {
      "cell_type": "markdown",
      "id": "f5a065c3",
      "metadata": {
        "id": "f5a065c3"
      },
      "source": [
        "Declaramos los continentes antes mencionados."
      ]
    },
    {
      "cell_type": "code",
      "source": [
        "df['NombreConti'] = ['Europa', 'Asia', 'África', 'América del Norte', 'América del Sur', 'Antártida', 'Oceanía']"
      ],
      "metadata": {
        "id": "1PZhGpPFtwx3"
      },
      "id": "1PZhGpPFtwx3",
      "execution_count": null,
      "outputs": []
    },
    {
      "cell_type": "markdown",
      "source": [
        "**IdMundial**"
      ],
      "metadata": {
        "id": "XV-B-eYIt-vU"
      },
      "id": "XV-B-eYIt-vU"
    },
    {
      "cell_type": "code",
      "source": [
        "df['IdMundial'] = ['2022Qatar' for i in range(num_continents)]"
      ],
      "metadata": {
        "id": "t_LqrbFctvo2"
      },
      "id": "t_LqrbFctvo2",
      "execution_count": null,
      "outputs": []
    },
    {
      "cell_type": "markdown",
      "id": "545e8963",
      "metadata": {
        "id": "545e8963"
      },
      "source": [
        "**Saving the Dataset**"
      ]
    },
    {
      "cell_type": "markdown",
      "id": "743e5aed",
      "metadata": {
        "id": "743e5aed"
      },
      "source": [
        "Ahora que los datos están completos y si estaba codificando, siéntase libre de ver el marco de datos antes de decidir guardarlo. Si todo se ve bien, guarde el marco de datos como un archivo .csv con este simple comando:"
      ]
    },
    {
      "cell_type": "code",
      "execution_count": null,
      "id": "b746f91d",
      "metadata": {
        "id": "b746f91d"
      },
      "outputs": [],
      "source": [
        "df.to_csv('dataset_continents.csv')"
      ]
    },
    {
      "cell_type": "code",
      "execution_count": null,
      "id": "ea5400f3",
      "metadata": {
        "id": "ea5400f3"
      },
      "outputs": [],
      "source": []
    }
  ],
  "metadata": {
    "kernelspec": {
      "display_name": "Python 3 (ipykernel)",
      "language": "python",
      "name": "python3"
    },
    "language_info": {
      "codemirror_mode": {
        "name": "ipython",
        "version": 3
      },
      "file_extension": ".py",
      "mimetype": "text/x-python",
      "name": "python",
      "nbconvert_exporter": "python",
      "pygments_lexer": "ipython3",
      "version": "3.9.7"
    },
    "colab": {
      "provenance": []
    }
  },
  "nbformat": 4,
  "nbformat_minor": 5
}