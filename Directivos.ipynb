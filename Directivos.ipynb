{
  "cells": [
    {
      "cell_type": "markdown",
      "source": [
        "# Directivos - \"The Club Benefits Programme\" FIFA"
      ],
      "metadata": {
        "id": "zVUXnN7Xm6rX"
      },
      "id": "zVUXnN7Xm6rX"
    },
    {
      "cell_type": "markdown",
      "source": [
        "***Librerías***"
      ],
      "metadata": {
        "id": "lZCdBHm2_QNu"
      },
      "id": "lZCdBHm2_QNu"
    },
    {
      "cell_type": "markdown",
      "source": [
        "Se utilizarán las siguientes librerías para crear los datos sintéticos"
      ],
      "metadata": {
        "id": "WSnwYJ6L_UtK"
      },
      "id": "WSnwYJ6L_UtK"
    },
    {
      "cell_type": "code",
      "execution_count": null,
      "id": "97b3d6da",
      "metadata": {
        "id": "97b3d6da"
      },
      "outputs": [],
      "source": [
        "import pandas as pd\n",
        "import uuid\n",
        "import random"
      ]
    },
    {
      "cell_type": "markdown",
      "source": [
        "El número de datos sintéticos que se crearán son de 5000 datos"
      ],
      "metadata": {
        "id": "NY6XylVi_aIM"
      },
      "id": "NY6XylVi_aIM"
    },
    {
      "cell_type": "code",
      "execution_count": null,
      "id": "29f6b5ac",
      "metadata": {
        "id": "29f6b5ac"
      },
      "outputs": [],
      "source": [
        "num_jugador = 5000"
      ]
    },
    {
      "cell_type": "markdown",
      "source": [
        "La entidad de las que vamos a crear los datos sería \"jugadores\".\n",
        "Se utilizará los siguientes atributos para esta entidad:\n",
        "\n",
        "*   ID (id)\n",
        "*   Nombre del jugador (name)\n",
        "*   Días en el Mundial (DiasEnMundial)\n",
        "*   Id Seleccion a la que pertenece (IdSeleccion)\n",
        "*   Género del jugador (gender): este atributo se lo añadió para poder crear los nombres sintéticos.\n",
        "\n",
        "\n",
        "\n",
        "\n",
        "\n"
      ],
      "metadata": {
        "id": "kwRFQSGu_gE8"
      },
      "id": "kwRFQSGu_gE8"
    },
    {
      "cell_type": "code",
      "execution_count": null,
      "id": "5a145d81",
      "metadata": {
        "id": "5a145d81"
      },
      "outputs": [],
      "source": [
        "# A list of 10 features\n",
        "features = [\n",
        "    \"IdEm\",\n",
        "    \"RangoD\"\n",
        "]# Creating a DF for these features\n",
        "df = pd.DataFrame(columns=features)"
      ]
    },
    {
      "cell_type": "markdown",
      "id": "32e7f58f",
      "metadata": {
        "id": "32e7f58f"
      },
      "source": [
        "**Creación de datos**"
      ]
    },
    {
      "cell_type": "markdown",
      "id": "6707781a",
      "metadata": {
        "id": "6707781a"
      },
      "source": [
        "***IDs***"
      ]
    },
    {
      "cell_type": "code",
      "execution_count": null,
      "id": "9417eb1d",
      "metadata": {
        "id": "9417eb1d"
      },
      "outputs": [],
      "source": [
        "df['IdEm'] = [uuid.uuid4().hex for i in range(num_jugador)]"
      ]
    },
    {
      "cell_type": "markdown",
      "id": "92e30db5",
      "metadata": {
        "id": "92e30db5"
      },
      "source": [
        "**UUID es una gran biblioteca para generar identificaciones únicas para cada usuario debido a su posibilidad astronómicamente baja de duplicar una identificación.** Es una gran opción cuando se trata de generar conjuntos de caracteres de identificación únicos. Pero, si desea asegurarse de que no se repitieron las ID, puede realizar una verificación simple en el marco de datos con lo siguiente:"
      ]
    },
    {
      "cell_type": "markdown",
      "id": "a14229fb",
      "metadata": {
        "id": "a14229fb"
      },
      "source": [
        "Esto devolverá True si todas las ID en el conjunto de datos son únicas."
      ]
    },
    {
      "cell_type": "markdown",
      "source": [
        "**Generamos la columna Gender con el unico fin de asignar a todos, nombres de jugadores hombres**"
      ],
      "metadata": {
        "id": "wLQtnJJaIU_6"
      },
      "id": "wLQtnJJaIU_6"
    },
    {
      "cell_type": "markdown",
      "id": "fd9b2e7f",
      "metadata": {
        "id": "fd9b2e7f"
      },
      "source": [
        "***Nombre***"
      ]
    },
    {
      "cell_type": "markdown",
      "id": "f5a065c3",
      "metadata": {
        "id": "f5a065c3"
      },
      "source": [
        "Se utiliza la biblioteca Faker para crear miles de nombres para todos estos usuarios."
      ]
    },
    {
      "cell_type": "markdown",
      "source": [
        "**Borramos la columna Gender creada**"
      ],
      "metadata": {
        "id": "ooRK10bFIiBi"
      },
      "id": "ooRK10bFIiBi"
    },
    {
      "cell_type": "markdown",
      "source": [
        "**Días en el mundial**"
      ],
      "metadata": {
        "id": "IgSM8HE-I4nc"
      },
      "id": "IgSM8HE-I4nc"
    },
    {
      "cell_type": "markdown",
      "source": [
        "Asignamos aleatoriamente dias entre 1 y 29 que dura el mundial para determinar sus días en el mundial."
      ],
      "metadata": {
        "id": "-qLE1cfWKGTh"
      },
      "id": "-qLE1cfWKGTh"
    },
    {
      "cell_type": "code",
      "source": [
        "#Dias en el mundial, empezando 12 que es lo mínimo que dura la fase de grupos y de ahi 29 siendo toda la duración del torneo.\n",
        "df['RangoD'] = [random.randrange(1, 4, 1) for i in range(num_jugador)]"
      ],
      "metadata": {
        "id": "h7OLHHMMI6Za"
      },
      "id": "h7OLHHMMI6Za",
      "execution_count": null,
      "outputs": []
    },
    {
      "cell_type": "markdown",
      "id": "545e8963",
      "metadata": {
        "id": "545e8963"
      },
      "source": [
        "**Guardando la información**"
      ]
    },
    {
      "cell_type": "markdown",
      "id": "743e5aed",
      "metadata": {
        "id": "743e5aed"
      },
      "source": [
        "Ahora que los datos están completos y si estaba codificando, siéntase libre de ver el marco de datos antes de decidir guardarlo. Si todo se ve bien, guarde el marco de datos como un archivo .csv con este simple comando:"
      ]
    },
    {
      "cell_type": "code",
      "execution_count": null,
      "id": "b746f91d",
      "metadata": {
        "id": "b746f91d"
      },
      "outputs": [],
      "source": [
        "df.to_csv('dataset_Directivos.csv')"
      ]
    }
  ],
  "metadata": {
    "kernelspec": {
      "display_name": "Python 3 (ipykernel)",
      "language": "python",
      "name": "python3"
    },
    "language_info": {
      "codemirror_mode": {
        "name": "ipython",
        "version": 3
      },
      "file_extension": ".py",
      "mimetype": "text/x-python",
      "name": "python",
      "nbconvert_exporter": "python",
      "pygments_lexer": "ipython3",
      "version": "3.9.7"
    },
    "colab": {
      "provenance": []
    }
  },
  "nbformat": 4,
  "nbformat_minor": 5
}