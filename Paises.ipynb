{
  "cells": [
    {
      "cell_type": "markdown",
      "source": [
        "# Países - \"The Club Benefits Programme\" FIFA"
      ],
      "metadata": {
        "id": "8baB8Cujmf3W"
      },
      "id": "8baB8Cujmf3W"
    },
    {
      "cell_type": "markdown",
      "source": [
        "***Librerías***"
      ],
      "metadata": {
        "id": "lZCdBHm2_QNu"
      },
      "id": "lZCdBHm2_QNu"
    },
    {
      "cell_type": "markdown",
      "source": [
        "Se utilizarán las siguientes librerías para crear los datos sintéticos"
      ],
      "metadata": {
        "id": "WSnwYJ6L_UtK"
      },
      "id": "WSnwYJ6L_UtK"
    },
    {
      "cell_type": "code",
      "source": [
        "#Instalamos Faker debido a que no viene instalado por defecto en Colab\n",
        "!pip install Faker"
      ],
      "metadata": {
        "colab": {
          "base_uri": "https://localhost:8080/"
        },
        "id": "WAOuGFSlm6nf",
        "outputId": "bb7ce7bf-598d-4826-9534-fc3887f12b94"
      },
      "id": "WAOuGFSlm6nf",
      "execution_count": null,
      "outputs": [
        {
          "output_type": "stream",
          "name": "stdout",
          "text": [
            "Looking in indexes: https://pypi.org/simple, https://us-python.pkg.dev/colab-wheels/public/simple/\n",
            "Requirement already satisfied: Faker in /usr/local/lib/python3.8/dist-packages (15.3.4)\n",
            "Requirement already satisfied: python-dateutil>=2.4 in /usr/local/lib/python3.8/dist-packages (from Faker) (2.8.2)\n",
            "Requirement already satisfied: six>=1.5 in /usr/local/lib/python3.8/dist-packages (from python-dateutil>=2.4->Faker) (1.15.0)\n"
          ]
        }
      ]
    },
    {
      "cell_type": "code",
      "execution_count": null,
      "id": "97b3d6da",
      "metadata": {
        "id": "97b3d6da"
      },
      "outputs": [],
      "source": [
        "#Importamos pandas para manejo de dataframes\n",
        "import pandas as pd\n",
        "#Importamos uuid para que solo exista 1 ID\n",
        "import uuid\n",
        "#Importamos random para la asignacion de datos randómicos\n",
        "import random\n",
        "#Importamos Faker para hacer uso de su recreacion de datos\n",
        "from faker import Faker\n",
        "#Importamos fecha para el manejo de fechas\n",
        "import datetime"
      ]
    },
    {
      "cell_type": "markdown",
      "id": "db21c16c",
      "metadata": {
        "id": "db21c16c"
      },
      "source": [
        "**Size**"
      ]
    },
    {
      "cell_type": "markdown",
      "id": "44ce2a03",
      "metadata": {
        "id": "44ce2a03"
      },
      "source": [
        "El tamaño del conjunto de datos será de 32 puntos de datos (puede hacer más, pero el procesamiento puede demorar más). Asigné esta cantidad a una variable constante, que usé en todo momento:"
      ]
    },
    {
      "cell_type": "code",
      "execution_count": null,
      "id": "29f6b5ac",
      "metadata": {
        "id": "29f6b5ac"
      },
      "outputs": [],
      "source": [
        "num_country = 32"
      ]
    },
    {
      "cell_type": "markdown",
      "id": "4f8ba686",
      "metadata": {
        "id": "4f8ba686"
      },
      "source": [
        "***Atributos***"
      ]
    },
    {
      "cell_type": "markdown",
      "id": "555a14da",
      "metadata": {
        "id": "555a14da"
      },
      "source": [
        "Elegí solamente 3 atributos:\n",
        "*   ID (IdPais)\n",
        "*   País(NombreP)\n",
        "*   Asistencia (Asistencia)\n",
        "*   Id Continente (IdConti)"
      ]
    },
    {
      "cell_type": "markdown",
      "id": "17841653",
      "metadata": {
        "id": "17841653"
      },
      "source": [
        "Ingresé lo anterior como una lista de características para inicializar un marco de datos de Pandas:"
      ]
    },
    {
      "cell_type": "code",
      "execution_count": null,
      "id": "5a145d81",
      "metadata": {
        "id": "5a145d81"
      },
      "outputs": [],
      "source": [
        "# A list of 10 features\n",
        "features = [\n",
        "    \"IdPais\",\n",
        "    \"NombreP\",\n",
        "    \"Asistencia\",\n",
        "    \"IdConti\",\n",
        "    \"IdMundial\"\n",
        "]# Creating a DF for these features\n",
        "df = pd.DataFrame(columns=features)"
      ]
    },
    {
      "cell_type": "markdown",
      "id": "32e7f58f",
      "metadata": {
        "id": "32e7f58f"
      },
      "source": [
        "**Creación de datos**"
      ]
    },
    {
      "cell_type": "markdown",
      "id": "b84da0a2",
      "metadata": {
        "id": "b84da0a2"
      },
      "source": [
        "Algunos atributos anteriores normalmente deberían contener datos desequilibrados. Se puede asumir con seguridad con una investigación rápida, algunas opciones no estarán igualmente representadas. Para un conjunto de datos más realista, estas tendencias deben reflejarse."
      ]
    },
    {
      "cell_type": "markdown",
      "id": "6707781a",
      "metadata": {
        "id": "6707781a"
      },
      "source": [
        "**IDs**"
      ]
    },
    {
      "cell_type": "markdown",
      "id": "57be8b83",
      "metadata": {
        "id": "57be8b83"
      },
      "source": [
        "Para el atributo ID, utilicé la biblioteca uuid para generar una cadena aleatoria de caracteres 20 veces. Luego, lo asigné al atributo ID en el marco de datos."
      ]
    },
    {
      "cell_type": "code",
      "execution_count": null,
      "id": "9417eb1d",
      "metadata": {
        "id": "9417eb1d"
      },
      "outputs": [],
      "source": [
        "df['IdPais'] = [uuid.uuid4().hex for i in range(num_country)]"
      ]
    },
    {
      "cell_type": "code",
      "execution_count": null,
      "id": "4be6d244",
      "metadata": {
        "colab": {
          "base_uri": "https://localhost:8080/"
        },
        "id": "4be6d244",
        "outputId": "6a8786de-5d33-425c-88f2-d6548ddb7415"
      },
      "outputs": [
        {
          "output_type": "stream",
          "name": "stdout",
          "text": [
            "True\n"
          ]
        }
      ],
      "source": [
        "print(df['IdPais'].nunique()==num_country)"
      ]
    },
    {
      "cell_type": "markdown",
      "source": [
        "***Nombre de Paises***\n",
        "\n",
        "Se declaran los 32 países que clasificaron al mundial"
      ],
      "metadata": {
        "id": "FVbAfTk7GJV-"
      },
      "id": "FVbAfTk7GJV-"
    },
    {
      "cell_type": "code",
      "source": [
        "df['NombreP'] = ['Qatar', 'Ecuador', 'Senegal', 'Paises Bajos', 'Inglaterra', 'Iran', 'USA', 'Gales', 'Argentina', 'Arabia Saudita', 'México', 'Polonia', 'Francia', 'Australia', 'Dinamarca', 'Tunez', 'Espania', 'Costa Rica', 'Alemania', 'Japon', 'Belgica', 'Canada', 'Marruecos', 'Croacia', 'Brasil', 'Serbia', 'Suiza', 'Camerón', 'Portugal', 'Ghana', 'Uruguay', 'Corea del Sur']\n"
      ],
      "metadata": {
        "id": "jpFxROLHM2CY"
      },
      "id": "jpFxROLHM2CY",
      "execution_count": null,
      "outputs": []
    },
    {
      "cell_type": "markdown",
      "source": [
        "***Estado del País***"
      ],
      "metadata": {
        "id": "bQ14xZLEYi9c"
      },
      "id": "bQ14xZLEYi9c"
    },
    {
      "cell_type": "code",
      "source": [
        "choice = [True, False]\n",
        "df['Asistencia'] = random.choices(\n",
        "    choice, \n",
        "    k=num_country\n",
        ")"
      ],
      "metadata": {
        "id": "oWAjcipiYh8N"
      },
      "id": "oWAjcipiYh8N",
      "execution_count": null,
      "outputs": []
    },
    {
      "cell_type": "markdown",
      "source": [
        "***ID del Continente***"
      ],
      "metadata": {
        "id": "tMniqvAnDk9t"
      },
      "id": "tMniqvAnDk9t"
    },
    {
      "cell_type": "code",
      "source": [
        "df['IdConti'] = [uuid.uuid4().hex for i in range(num_country)]\n",
        "print(df['IdConti'].nunique()==num_country)"
      ],
      "metadata": {
        "colab": {
          "base_uri": "https://localhost:8080/"
        },
        "id": "GqBLwkcuDleF",
        "outputId": "34d2f927-6aae-41c6-dac4-ccccd4429c4c"
      },
      "id": "GqBLwkcuDleF",
      "execution_count": null,
      "outputs": [
        {
          "output_type": "stream",
          "name": "stdout",
          "text": [
            "True\n"
          ]
        }
      ]
    },
    {
      "cell_type": "markdown",
      "source": [
        "**IdMundial**"
      ],
      "metadata": {
        "id": "cxs17Lc-vBxK"
      },
      "id": "cxs17Lc-vBxK"
    },
    {
      "cell_type": "code",
      "source": [
        "df['IdMundial'] = ['2022Qatar' for i in range(num_country)]"
      ],
      "metadata": {
        "id": "GSNjRdz4vCQS"
      },
      "id": "GSNjRdz4vCQS",
      "execution_count": null,
      "outputs": []
    },
    {
      "cell_type": "markdown",
      "id": "545e8963",
      "metadata": {
        "id": "545e8963"
      },
      "source": [
        "**Saving the Dataset**"
      ]
    },
    {
      "cell_type": "markdown",
      "id": "743e5aed",
      "metadata": {
        "id": "743e5aed"
      },
      "source": [
        "Ahora que los datos están completos y si estaba codificando, siéntase libre de ver el marco de datos antes de decidir guardarlo. Si todo se ve bien, guarde el marco de datos como un archivo .csv con este simple comando:"
      ]
    },
    {
      "cell_type": "code",
      "execution_count": null,
      "id": "b746f91d",
      "metadata": {
        "id": "b746f91d"
      },
      "outputs": [],
      "source": [
        "df.to_csv('dataset_paises.csv')"
      ]
    }
  ],
  "metadata": {
    "kernelspec": {
      "display_name": "Python 3 (ipykernel)",
      "language": "python",
      "name": "python3"
    },
    "language_info": {
      "codemirror_mode": {
        "name": "ipython",
        "version": 3
      },
      "file_extension": ".py",
      "mimetype": "text/x-python",
      "name": "python",
      "nbconvert_exporter": "python",
      "pygments_lexer": "ipython3",
      "version": "3.9.7"
    },
    "colab": {
      "provenance": []
    }
  },
  "nbformat": 4,
  "nbformat_minor": 5
}