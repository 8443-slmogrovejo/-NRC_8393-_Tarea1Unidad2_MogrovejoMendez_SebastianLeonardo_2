{
  "cells": [
    {
      "cell_type": "markdown",
      "id": "3d59342e",
      "metadata": {
        "id": "3d59342e"
      },
      "source": [
        "# PERSONAS - \"The Club Benefits Programme\" FIFA"
      ]
    },
    {
      "cell_type": "markdown",
      "id": "c6482288",
      "metadata": {
        "id": "c6482288"
      },
      "source": [
        "# Construcción del conjunto de datos"
      ]
    },
    {
      "cell_type": "markdown",
      "id": "d02a8e8d",
      "metadata": {
        "id": "d02a8e8d"
      },
      "source": [
        "Para codificar, comience importando las siguientes bibliotecas:"
      ]
    },
    {
      "cell_type": "code",
      "execution_count": null,
      "id": "97b3d6da",
      "metadata": {
        "colab": {
          "base_uri": "https://localhost:8080/"
        },
        "id": "97b3d6da",
        "outputId": "36d1e845-a33d-4c71-df26-6d890935d621"
      },
      "outputs": [
        {
          "output_type": "stream",
          "name": "stdout",
          "text": [
            "Looking in indexes: https://pypi.org/simple, https://us-python.pkg.dev/colab-wheels/public/simple/\n",
            "Collecting Faker\n",
            "  Downloading Faker-15.3.4-py3-none-any.whl (1.6 MB)\n",
            "\u001b[K     |████████████████████████████████| 1.6 MB 5.0 MB/s \n",
            "\u001b[?25hRequirement already satisfied: python-dateutil>=2.4 in /usr/local/lib/python3.8/dist-packages (from Faker) (2.8.2)\n",
            "Requirement already satisfied: six>=1.5 in /usr/local/lib/python3.8/dist-packages (from python-dateutil>=2.4->Faker) (1.15.0)\n",
            "Installing collected packages: Faker\n",
            "Successfully installed Faker-15.3.4\n"
          ]
        }
      ],
      "source": [
        "#Instalamos Faker debido a que no viene instalado por defecto en Colab\n",
        "!pip install Faker\n",
        "#Importamos pandas para manejo de dataframes\n",
        "import pandas as pd\n",
        "#Importamos uuid para que solo exista 1 ID\n",
        "import uuid\n",
        "#Importamos random para la asignacion de datos randómicos\n",
        "import random\n",
        "#Importamos Faker para hacer uso de su recreacion de datos\n",
        "from faker import Faker\n",
        "#Importamos fecha para el manejo de fechas\n",
        "import datetime"
      ]
    },
    {
      "cell_type": "markdown",
      "id": "db21c16c",
      "metadata": {
        "id": "db21c16c"
      },
      "source": [
        "**Size**"
      ]
    },
    {
      "cell_type": "markdown",
      "id": "44ce2a03",
      "metadata": {
        "id": "44ce2a03"
      },
      "source": [
        "El tamaño del conjunto de datos será de 5000 puntos de datos. Asigné esta cantidad a una variable constante, que usé en todo momento:"
      ]
    },
    {
      "cell_type": "code",
      "execution_count": null,
      "id": "29f6b5ac",
      "metadata": {
        "id": "29f6b5ac"
      },
      "outputs": [],
      "source": [
        "num_directives = 20000"
      ]
    },
    {
      "cell_type": "markdown",
      "id": "4f8ba686",
      "metadata": {
        "id": "4f8ba686"
      },
      "source": [
        "**Características**"
      ]
    },
    {
      "cell_type": "markdown",
      "id": "555a14da",
      "metadata": {
        "id": "555a14da"
      },
      "source": [
        "Elegí 4 características para cada persona. Estas características y los respectivos tipos de datos son:\n",
        "\n",
        "     - ID: una cadena única de caracteres para identificar a cada persona.\n",
        "     - Genero (Sexo:) tipo de datos de cadena de tres opciones.\n",
        "     - NombreDir (Nombre:) tipo de datos de cadena del nombre y apellido del persona.\n",
        "     - Correo (Correo electrónico:) tipo de datos de cadena de la dirección de correo electrónico del persona."
      ]
    },
    {
      "cell_type": "markdown",
      "id": "17841653",
      "metadata": {
        "id": "17841653"
      },
      "source": [
        "Ingresé lo anterior como una lista de características para inicializar un marco de datos de Pandas:"
      ]
    },
    {
      "cell_type": "code",
      "execution_count": null,
      "id": "5a145d81",
      "metadata": {
        "id": "5a145d81"
      },
      "outputs": [],
      "source": [
        "#Lista de 7 atributos/features para los directivos\n",
        "features = [\n",
        "    #ID: una cadena única de caracteres para identificar a cada persona.\n",
        "    \"IdP\",\n",
        "    #Name (Nombre:) tipo de datos de cadena del nombre y apellido de la persona.\n",
        "    \"NombreP\",\n",
        "    #Gender (Sexo:) tipo de datos de cadena de tres opciones. Masculino, Femenino y No binario\n",
        "    \"GeneroP\",\n",
        "    #Email (Correo electrónico:) tipo de datos de cadena de la dirección de correo electrónico de la persona.\n",
        "    \"CorreoP\"\n",
        "]\n",
        "#Generemos el dataframe donde estarán presentes\n",
        "df = pd.DataFrame(columns=features)"
      ]
    },
    {
      "cell_type": "markdown",
      "id": "32e7f58f",
      "metadata": {
        "id": "32e7f58f"
      },
      "source": [
        "**Creación de datos**"
      ]
    },
    {
      "cell_type": "markdown",
      "id": "6707781a",
      "metadata": {
        "id": "6707781a"
      },
      "source": [
        "**IDs**"
      ]
    },
    {
      "cell_type": "markdown",
      "id": "57be8b83",
      "metadata": {
        "id": "57be8b83"
      },
      "source": [
        "Para el atributo ID, utilicé la biblioteca uuid para generar una cadena aleatoria de caracteres 100 000 veces. Luego, lo asigné al atributo ID en el marco de datos."
      ]
    },
    {
      "cell_type": "code",
      "execution_count": null,
      "id": "9417eb1d",
      "metadata": {
        "id": "9417eb1d"
      },
      "outputs": [],
      "source": [
        "# Definimos en ID la función uuid para el análisis de cada uno de los 5000 datos\n",
        "df['IdP'] = [uuid.uuid4().hex for i in range(num_directives)]"
      ]
    },
    {
      "cell_type": "markdown",
      "id": "92e30db5",
      "metadata": {
        "id": "92e30db5"
      },
      "source": [
        "**UUID es una gran biblioteca para generar identificaciones únicas para cada usuario debido a su posibilidad astronómicamente baja de duplicar una identificación.** Es una gran opción cuando se trata de generar conjuntos de caracteres de identificación únicos. Pero, si desea asegurarse de que no se repitieron las ID, puede realizar una verificación simple en el marco de datos con lo siguiente:"
      ]
    },
    {
      "cell_type": "code",
      "execution_count": null,
      "id": "4be6d244",
      "metadata": {
        "colab": {
          "base_uri": "https://localhost:8080/"
        },
        "id": "4be6d244",
        "outputId": "36b42e2b-4416-4dd0-9006-f92f11869bf2"
      },
      "outputs": [
        {
          "output_type": "stream",
          "name": "stdout",
          "text": [
            "True\n"
          ]
        }
      ],
      "source": [
        "print(df['IdP'].nunique()==num_directives)"
      ]
    },
    {
      "cell_type": "markdown",
      "id": "a14229fb",
      "metadata": {
        "id": "a14229fb"
      },
      "source": [
        "Esto devolverá True si todas las ID en el conjunto de datos son únicas."
      ]
    },
    {
      "cell_type": "markdown",
      "id": "e42be811",
      "metadata": {
        "id": "e42be811"
      },
      "source": [
        "**Gender**"
      ]
    },
    {
      "cell_type": "markdown",
      "id": "a189353d",
      "metadata": {
        "id": "a189353d"
      },
      "source": [
        "**Este atributo es uno de los casos en los que probablemente no se debería utilizar una elección igualmente aleatoria. Porque se puede suponer con seguridad que cada elección no tiene la misma probabilidad de ocurrir.**\n",
        "\n",
        "Para el género, proporcioné tres opciones: masculino, femenino y No binario."
      ]
    },
    {
      "cell_type": "code",
      "execution_count": null,
      "id": "53792c85",
      "metadata": {
        "id": "53792c85"
      },
      "outputs": [],
      "source": [
        "genders = [\"M\", \"F\", \"NB\"]"
      ]
    },
    {
      "cell_type": "code",
      "execution_count": null,
      "id": "bc4eb9a8",
      "metadata": {
        "id": "bc4eb9a8"
      },
      "outputs": [],
      "source": [
        "df['GeneroP'] = random.choices(\n",
        "    genders, \n",
        "    weights=(47,47,6), \n",
        "    k=num_directives\n",
        ")"
      ]
    },
    {
      "cell_type": "markdown",
      "id": "fd9b2e7f",
      "metadata": {
        "id": "fd9b2e7f"
      },
      "source": [
        "**Name**"
      ]
    },
    {
      "cell_type": "markdown",
      "id": "f5a065c3",
      "metadata": {
        "id": "f5a065c3"
      },
      "source": [
        "Aquí usé la biblioteca Faker para crear miles de nombres para todos estos usuarios. **La biblioteca Faker es excelente en esta situación porque tiene una opción para nombres masculinos y femeninos.**}} Para procesar los nombres de género, creé una función para asignar nombres en función de un género determinado."
      ]
    },
    {
      "cell_type": "code",
      "execution_count": null,
      "id": "b3fd6f7f",
      "metadata": {
        "id": "b3fd6f7f"
      },
      "outputs": [],
      "source": [
        "# Instantiating faker\n",
        "faker = Faker()\n",
        "\n",
        "def name_gen(gender):\n",
        "    \"\"\"\n",
        "    Parametros\n",
        "    ----------\n",
        "    genero\n",
        "        Recibe el genero \n",
        "    Procedimiento\n",
        "    -------------\n",
        "        Genera un nombre en base a si el dato es masculino o femenino\n",
        "    Retorna\n",
        "    -------\n",
        "        El nombre asignado\n",
        "    \"\"\"\n",
        "    #Condicional para determinar si es hombre o mujer\n",
        "    if gender=='M':\n",
        "        return faker.name_male()\n",
        "    elif gender=='F':\n",
        "        return faker.name_female()\n",
        "    \n",
        "    return faker.name()# Genera los nombres para cada persona\n",
        "# Guarda los datos en el data frame en base a los generos asignados\n",
        "df['NombreP'] = [name_gen(i) for i in df['GeneroP']]"
      ]
    },
    {
      "cell_type": "markdown",
      "id": "fbbe6fc8",
      "metadata": {
        "id": "fbbe6fc8"
      },
      "source": [
        "Usé mi función simple para producir rápidamente una lista de nombres basada en los datos del atributo \"Género\" antes y la asigné al marco de datos."
      ]
    },
    {
      "cell_type": "markdown",
      "id": "4ae541de",
      "metadata": {
        "id": "4ae541de"
      },
      "source": [
        "**Email**"
      ]
    },
    {
      "cell_type": "markdown",
      "id": "e81f6c90",
      "metadata": {
        "id": "e81f6c90"
      },
      "source": [
        "Se creo una nueva función que daría formato a los nombres en direcciones de correo electrónico con un nombre de dominio predeterminado. La asignación del dominio sería exclusivo de la FIFA. También manejaría direcciones duplicadas simplemente agregando un número aleatorio al final del nombre formateado:"
      ]
    },
    {
      "cell_type": "code",
      "execution_count": null,
      "id": "670b3855",
      "metadata": {
        "id": "670b3855"
      },
      "outputs": [],
      "source": [
        "def emailGen(name, duplicateFound=False):\n",
        "    \"\"\"\n",
        "    Parametros\n",
        "    ----------\n",
        "    name\n",
        "        Recibe el nombre del dato\n",
        "    duplicateFound\n",
        "        Analisa si hay duplicado \n",
        "    Procedimiento\n",
        "    -------------\n",
        "        Genera un correo aleatorio segun el nombre recibido\n",
        "        Añade numeros en caso de encontrar duplicados\n",
        "    Retorna\n",
        "    -------\n",
        "        Direccion del correo\n",
        "    \"\"\"\n",
        "    # Dominio falso a usar\n",
        "    dom = \"@fifa.org\"\n",
        "    \n",
        "    # Poner en minisculas el nombre recibido\n",
        "    name = name.lower().split(\" \")\n",
        "    \n",
        "    # Caracteres cualquiera para añadir al nombre\n",
        "    chars = [\".\", \"_\"]\n",
        "    \n",
        "    new_name = name[0] + random.choice(chars) + name[1] \n",
        "    \n",
        "    # En caso de encontrar duplicados:\n",
        "    if duplicateFound:\n",
        "        \n",
        "        # Genera un numero aleatorio del 1 al 100\n",
        "        num = random.randint(0,100)\n",
        "        \n",
        "        # Añade el numero al correo\n",
        "        new_name = new_name + str(num)\n",
        "        \n",
        "    # Regresa la direccion de correo\n",
        "    return new_name + dom"
      ]
    },
    {
      "cell_type": "markdown",
      "id": "c488a9f8",
      "metadata": {
        "id": "c488a9f8"
      },
      "source": [
        "Ahora, para aprovechar adecuadamente el propósito de esta función, creé un ciclo que volvería a ejecutar la función cuando fuera necesario mientras iteraba a través del atributo \"Nombre\". El ciclo seguiría volviendo a ejecutar la función hasta que se creara un nombre de correo electrónico único."
      ]
    },
    {
      "cell_type": "code",
      "execution_count": null,
      "id": "97cd6b45",
      "metadata": {
        "id": "97cd6b45"
      },
      "outputs": [],
      "source": [
        "emails = []\n",
        "\n",
        "for name in df['NombreP']:\n",
        "    \n",
        "    # Llamando a la función del correo\n",
        "    email = emailGen(name)\n",
        "    \n",
        "    # Generando un bucle hasta que sea unico\n",
        "    while email in emails:\n",
        "        \n",
        "        # Añadiendo un numero al correo para evitar duplicados\n",
        "        email = emailGen(name, duplicateFound=True)\n",
        "    \n",
        "    # Añadiendo los cambios\n",
        "    emails.append(email)\n",
        "    \n",
        "df['CorreoP'] = emails"
      ]
    },
    {
      "cell_type": "markdown",
      "id": "813169e8",
      "metadata": {
        "id": "813169e8"
      },
      "source": [
        "Después de generar todos los correos electrónicos, los asigné al atributo \"Correo electrónico\" del marco de datos. También puede hacer una verificación opcional para ver que cada correo electrónico sea único con el mismo método que las ID."
      ]
    },
    {
      "cell_type": "markdown",
      "id": "545e8963",
      "metadata": {
        "id": "545e8963"
      },
      "source": [
        "**Saving the Dataset**"
      ]
    },
    {
      "cell_type": "markdown",
      "id": "743e5aed",
      "metadata": {
        "id": "743e5aed"
      },
      "source": [
        "Ahora que los datos están completos y si estaba codificando, siéntase libre de ver el marco de datos antes de decidir guardarlo. Si todo se ve bien, guarde el marco de datos como un archivo .csv con este simple comando:"
      ]
    },
    {
      "cell_type": "code",
      "execution_count": null,
      "id": "b746f91d",
      "metadata": {
        "id": "b746f91d"
      },
      "outputs": [],
      "source": [
        "df.to_csv('dataset_Personas.csv')"
      ]
    },
    {
      "cell_type": "code",
      "execution_count": null,
      "id": "ea5400f3",
      "metadata": {
        "id": "ea5400f3"
      },
      "outputs": [],
      "source": []
    }
  ],
  "metadata": {
    "kernelspec": {
      "display_name": "Python 3 (ipykernel)",
      "language": "python",
      "name": "python3"
    },
    "language_info": {
      "codemirror_mode": {
        "name": "ipython",
        "version": 3
      },
      "file_extension": ".py",
      "mimetype": "text/x-python",
      "name": "python",
      "nbconvert_exporter": "python",
      "pygments_lexer": "ipython3",
      "version": "3.9.7"
    },
    "colab": {
      "provenance": []
    }
  },
  "nbformat": 4,
  "nbformat_minor": 5
}