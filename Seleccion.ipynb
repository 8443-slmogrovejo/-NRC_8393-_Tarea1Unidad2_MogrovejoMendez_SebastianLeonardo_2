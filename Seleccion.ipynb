{
  "cells": [
    {
      "cell_type": "markdown",
      "source": [
        "# Selección - \"The Club Benefits Programme\" FIFA"
      ],
      "metadata": {
        "id": "pmfwlkNRm2GV"
      },
      "id": "pmfwlkNRm2GV"
    },
    {
      "cell_type": "markdown",
      "source": [
        "***Librerías***"
      ],
      "metadata": {
        "id": "lZCdBHm2_QNu"
      },
      "id": "lZCdBHm2_QNu"
    },
    {
      "cell_type": "markdown",
      "source": [
        "Se utilizarán las siguientes librerías para crear los datos sintéticos"
      ],
      "metadata": {
        "id": "WSnwYJ6L_UtK"
      },
      "id": "WSnwYJ6L_UtK"
    },
    {
      "cell_type": "code",
      "source": [
        "!pip install Faker"
      ],
      "metadata": {
        "colab": {
          "base_uri": "https://localhost:8080/"
        },
        "id": "WAOuGFSlm6nf",
        "outputId": "fb8b3b0c-43f4-4b9a-b337-8233a63ef66a"
      },
      "id": "WAOuGFSlm6nf",
      "execution_count": null,
      "outputs": [
        {
          "output_type": "stream",
          "name": "stdout",
          "text": [
            "Looking in indexes: https://pypi.org/simple, https://us-python.pkg.dev/colab-wheels/public/simple/\n",
            "Requirement already satisfied: Faker in /usr/local/lib/python3.8/dist-packages (15.3.4)\n",
            "Requirement already satisfied: python-dateutil>=2.4 in /usr/local/lib/python3.8/dist-packages (from Faker) (2.8.2)\n",
            "Requirement already satisfied: six>=1.5 in /usr/local/lib/python3.8/dist-packages (from python-dateutil>=2.4->Faker) (1.15.0)\n"
          ]
        }
      ]
    },
    {
      "cell_type": "code",
      "execution_count": null,
      "id": "97b3d6da",
      "metadata": {
        "id": "97b3d6da"
      },
      "outputs": [],
      "source": [
        "import pandas as pd\n",
        "import uuid\n",
        "import random\n",
        "from faker import Faker"
      ]
    },
    {
      "cell_type": "markdown",
      "id": "db21c16c",
      "metadata": {
        "id": "db21c16c"
      },
      "source": [
        "**Size**"
      ]
    },
    {
      "cell_type": "markdown",
      "id": "44ce2a03",
      "metadata": {
        "id": "44ce2a03"
      },
      "source": [
        "El tamaño del conjunto de datos será de 32 puntos de datos (puede hacer más, pero el procesamiento puede demorar más). Asigné esta cantidad a una variable constante, que usé en todo momento:"
      ]
    },
    {
      "cell_type": "code",
      "execution_count": null,
      "id": "29f6b5ac",
      "metadata": {
        "id": "29f6b5ac"
      },
      "outputs": [],
      "source": [
        "num_seleccion = 32"
      ]
    },
    {
      "cell_type": "markdown",
      "id": "4f8ba686",
      "metadata": {
        "id": "4f8ba686"
      },
      "source": [
        "***Atributos***"
      ]
    },
    {
      "cell_type": "markdown",
      "id": "555a14da",
      "metadata": {
        "id": "555a14da"
      },
      "source": [
        "Elegí solamente 3 atributos:\n",
        "*   ID (IdSeleccion)\n",
        "*   La selección del país(NombreS)\n",
        "*   ID País al que pertenece (IdPais)\n",
        "*   ID Continente al que pertenece (IdConti)"
      ]
    },
    {
      "cell_type": "markdown",
      "id": "17841653",
      "metadata": {
        "id": "17841653"
      },
      "source": [
        "Ingresé lo anterior como una lista de características para inicializar un marco de datos de Pandas:"
      ]
    },
    {
      "cell_type": "code",
      "execution_count": null,
      "id": "5a145d81",
      "metadata": {
        "id": "5a145d81"
      },
      "outputs": [],
      "source": [
        "# A list of 10 features\n",
        "features = [\n",
        "    \"IdSeleccion\",\n",
        "    \"NombreS\",\n",
        "    \"IdPais\",\n",
        "    \"IdConti\",\n",
        "    \"IdMundial\"\n",
        "]# Creating a DF for these features\n",
        "df = pd.DataFrame(columns=features)"
      ]
    },
    {
      "cell_type": "markdown",
      "id": "32e7f58f",
      "metadata": {
        "id": "32e7f58f"
      },
      "source": [
        "**Creación de datos**"
      ]
    },
    {
      "cell_type": "markdown",
      "id": "b84da0a2",
      "metadata": {
        "id": "b84da0a2"
      },
      "source": [
        "Algunos atributos anteriores normalmente deberían contener datos desequilibrados. Se puede asumir con seguridad con una investigación rápida, algunas opciones no estarán igualmente representadas. Para un conjunto de datos más realista, estas tendencias deben reflejarse."
      ]
    },
    {
      "cell_type": "markdown",
      "id": "6707781a",
      "metadata": {
        "id": "6707781a"
      },
      "source": [
        "**IDs**"
      ]
    },
    {
      "cell_type": "markdown",
      "id": "57be8b83",
      "metadata": {
        "id": "57be8b83"
      },
      "source": [
        "Para el atributo ID, utilicé la biblioteca uuid para generar una cadena aleatoria de caracteres 20 veces. Luego, lo asigné al atributo ID en el marco de datos."
      ]
    },
    {
      "cell_type": "code",
      "execution_count": null,
      "id": "9417eb1d",
      "metadata": {
        "id": "9417eb1d"
      },
      "outputs": [],
      "source": [
        "df['IdSeleccion'] = [uuid.uuid4().hex for i in range(num_seleccion)]"
      ]
    },
    {
      "cell_type": "code",
      "execution_count": null,
      "id": "4be6d244",
      "metadata": {
        "colab": {
          "base_uri": "https://localhost:8080/"
        },
        "id": "4be6d244",
        "outputId": "6e80a981-2dd2-41cb-d0a6-47eb70b1e55c"
      },
      "outputs": [
        {
          "output_type": "stream",
          "name": "stdout",
          "text": [
            "True\n"
          ]
        }
      ],
      "source": [
        "print(df['IdSeleccion'].nunique()==num_seleccion)"
      ]
    },
    {
      "cell_type": "markdown",
      "source": [
        "***Nombre de las selecciones***\n",
        "\n",
        "Se declaran las 32 selecciones que clasificaron al mundial"
      ],
      "metadata": {
        "id": "FVbAfTk7GJV-"
      },
      "id": "FVbAfTk7GJV-"
    },
    {
      "cell_type": "code",
      "source": [
        "df['NombreS'] = ['Qatar', 'Ecuador', 'Senegal', 'Paises Bajos', 'Inglaterra', 'Iran', 'USA', 'Gales', 'Argentina', 'Arabia Saudita', 'México', 'Polonia', 'Francia', 'Australia', 'Dinamarca', 'Tunez', 'Espania', 'Costa Rica', 'Alemania', 'Japon', 'Belgica', 'Canada', 'Marruecos', 'Croacia', 'Brasil', 'Serbia', 'Suiza', 'Camerón', 'Portugal', 'Ghana', 'Uruguay', 'Corea del Sur']\n"
      ],
      "metadata": {
        "id": "jpFxROLHM2CY"
      },
      "id": "jpFxROLHM2CY",
      "execution_count": null,
      "outputs": []
    },
    {
      "cell_type": "markdown",
      "source": [
        "***ID Pais***"
      ],
      "metadata": {
        "id": "bQ14xZLEYi9c"
      },
      "id": "bQ14xZLEYi9c"
    },
    {
      "cell_type": "code",
      "source": [
        "df['IdPais'] = [uuid.uuid4().hex for i in range(num_seleccion)]\n",
        "print(df['IdPais'].nunique()==num_seleccion)"
      ],
      "metadata": {
        "id": "oWAjcipiYh8N",
        "colab": {
          "base_uri": "https://localhost:8080/"
        },
        "outputId": "76699462-fdae-4381-f48f-aef804ae6fc3"
      },
      "id": "oWAjcipiYh8N",
      "execution_count": null,
      "outputs": [
        {
          "output_type": "stream",
          "name": "stdout",
          "text": [
            "True\n"
          ]
        }
      ]
    },
    {
      "cell_type": "markdown",
      "source": [
        "***ID Continente***"
      ],
      "metadata": {
        "id": "VKx8xkY5Em1X"
      },
      "id": "VKx8xkY5Em1X"
    },
    {
      "cell_type": "code",
      "source": [
        "df['IdConti'] = [uuid.uuid4().hex for i in range(num_seleccion)]\n",
        "print(df['IdConti'].nunique()==num_seleccion)"
      ],
      "metadata": {
        "colab": {
          "base_uri": "https://localhost:8080/"
        },
        "id": "PK8PFIWjEnBk",
        "outputId": "51e2c193-18e0-403d-cde6-dd2fbd212ae1"
      },
      "id": "PK8PFIWjEnBk",
      "execution_count": null,
      "outputs": [
        {
          "output_type": "stream",
          "name": "stdout",
          "text": [
            "True\n"
          ]
        }
      ]
    },
    {
      "cell_type": "markdown",
      "source": [
        "**IdMundial**"
      ],
      "metadata": {
        "id": "oxV823i1xVL3"
      },
      "id": "oxV823i1xVL3"
    },
    {
      "cell_type": "code",
      "source": [
        "df['IdMundial'] = ['2022Qatar' for i in range(num_seleccion)]"
      ],
      "metadata": {
        "id": "OJSBq4kHxVSj"
      },
      "id": "OJSBq4kHxVSj",
      "execution_count": null,
      "outputs": []
    },
    {
      "cell_type": "markdown",
      "id": "545e8963",
      "metadata": {
        "id": "545e8963"
      },
      "source": [
        "**Saving the Dataset**"
      ]
    },
    {
      "cell_type": "markdown",
      "id": "743e5aed",
      "metadata": {
        "id": "743e5aed"
      },
      "source": [
        "Ahora que los datos están completos y si estaba codificando, siéntase libre de ver el marco de datos antes de decidir guardarlo. Si todo se ve bien, guarde el marco de datos como un archivo .csv con este simple comando:"
      ]
    },
    {
      "cell_type": "code",
      "execution_count": null,
      "id": "b746f91d",
      "metadata": {
        "id": "b746f91d"
      },
      "outputs": [],
      "source": [
        "df.to_csv('dataset_Seleccion.csv')"
      ]
    }
  ],
  "metadata": {
    "kernelspec": {
      "display_name": "Python 3 (ipykernel)",
      "language": "python",
      "name": "python3"
    },
    "language_info": {
      "codemirror_mode": {
        "name": "ipython",
        "version": 3
      },
      "file_extension": ".py",
      "mimetype": "text/x-python",
      "name": "python",
      "nbconvert_exporter": "python",
      "pygments_lexer": "ipython3",
      "version": "3.9.7"
    },
    "colab": {
      "provenance": []
    }
  },
  "nbformat": 4,
  "nbformat_minor": 5
}